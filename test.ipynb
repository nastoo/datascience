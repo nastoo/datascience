{
 "cells": [
  {
   "cell_type": "code",
   "execution_count": 1,
   "metadata": {},
   "outputs": [],
   "source": [
    "from sklearn.feature_extraction.text import CountVectorizer\n",
    "import pandas as pd\n",
    "from ast import literal_eval"
   ]
  },
  {
   "cell_type": "code",
   "execution_count": 2,
   "metadata": {},
   "outputs": [],
   "source": [
    "bible_df = pd.read_csv('bible-cleaned.csv', index_col=0, converters={'cleaned': literal_eval})\n",
    "\n",
    "cleaned_corpus = bible_df['cleaned'].apply(lambda x: ' '.join(x))"
   ]
  },
  {
   "cell_type": "code",
   "execution_count": 23,
   "metadata": {},
   "outputs": [
    {
     "ename": "",
     "evalue": "",
     "output_type": "error",
     "traceback": [
      "\u001b[1;31mThe Kernel crashed while executing code in the current cell or a previous cell. \n",
      "\u001b[1;31mPlease review the code in the cell(s) to identify a possible cause of the failure. \n",
      "\u001b[1;31mClick <a href='https://aka.ms/vscodeJupyterKernelCrash'>here</a> for more info. \n",
      "\u001b[1;31mView Jupyter <a href='command:jupyter.viewOutput'>log</a> for further details."
     ]
    }
   ],
   "source": [
    "bv = CountVectorizer(ngram_range=(2,2))\n",
    "bv_matrix = bv.fit_transform(cleaned_corpus)\n",
    "bv_matrix_array = bv_matrix.toarray()\n",
    "vocab = bv.get_feature_names_out()\n",
    "bible_df_bigram_trigram = pd.DataFrame(bv_matrix_array, columns=vocab)\n",
    "bible_df_bigram_trigram = bible_df_bigram_trigram.astype('int8')\n",
    "\n",
    "big_features_sum = bible_df_bigram_trigram.sum()\n",
    "\n",
    "# Get features with more than 50 repetitions in the whole dataset\n",
    "big_features_sum_selected = big_features_sum[big_features_sum >= 50]\n",
    "\n",
    "# Select features to be removed\n",
    "to_be_removed = list(set(list(set(vocab) - set(big_features_sum_selected.index))) - set(vocab))\n",
    "\n",
    "# Clean bigram df\n",
    "#bible_df_bigram_trigram_cleaned =  pd.DataFrame(bible_df_bigram_trigram, columns=to_be_removed)"
   ]
  },
  {
   "cell_type": "code",
   "execution_count": null,
   "metadata": {},
   "outputs": [],
   "source": [
    "big_features_sum_selected[to_be_removed]"
   ]
  }
 ],
 "metadata": {
  "kernelspec": {
   "display_name": "base",
   "language": "python",
   "name": "python3"
  },
  "language_info": {
   "codemirror_mode": {
    "name": "ipython",
    "version": 3
   },
   "file_extension": ".py",
   "mimetype": "text/x-python",
   "name": "python",
   "nbconvert_exporter": "python",
   "pygments_lexer": "ipython3",
   "version": "3.9.13"
  }
 },
 "nbformat": 4,
 "nbformat_minor": 2
}

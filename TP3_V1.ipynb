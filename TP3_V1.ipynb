{
 "cells": [
  {
   "cell_type": "code",
   "execution_count": null,
   "metadata": {},
   "outputs": [],
   "source": [
    "import pandas as pd\n",
    "import re\n",
    "\n",
    "# Import de NTLK et du corpus inaugural\n",
    "import nltk\n",
    "from nltk.corpus import stopwords\n",
    "nltk.download('stopwords')"
   ]
  },
  {
   "cell_type": "code",
   "execution_count": null,
   "metadata": {},
   "outputs": [],
   "source": [
    "# Import bible csv\n",
    "bible_df = pd.read_csv('bible.csv')"
   ]
  },
  {
   "cell_type": "code",
   "execution_count": null,
   "metadata": {},
   "outputs": [],
   "source": [
    "# Stats descriptives sur le dataframe\n",
    "bible_df.rename(columns={\n",
    "    'b': 'book_id', \n",
    "    'c': 'chapter_id',\n",
    "    'v': 'verse_id',\n",
    "    't': 'text'\n",
    "    }, inplace=True)\n",
    "\n",
    "bible_df"
   ]
  },
  {
   "cell_type": "code",
   "execution_count": null,
   "metadata": {},
   "outputs": [],
   "source": [
    "# Now, clean !\n",
    "\n",
    "# Use lambda to apply the function to each row of the DataFrame\n",
    "def remove_all_punctuation(text):\n",
    "   return re.sub(r'[^\\w\\s]', ' ', text)\n",
    "\n",
    "def remove_partial_punctuation(text): # except .!?\n",
    "   return re.sub(r'[^\\w\\s.!?]', ' ', text)\n",
    "\n",
    "def carriage_return(text):\n",
    "   return re.sub(r'\\n', ' ', text)\n",
    "\n",
    "def remove_double_space(text): # remove when more than 2 spaces\n",
    "   return re.sub(r'[ ]{2,}', ' ', text)\n",
    "\n",
    "def remove_empty_strings(text):\n",
    "    return list(filter(None, text))\n",
    "\n",
    "def remove_stopwords(text):\n",
    "   text = tokenize(text)\n",
    "   filtered_words = [word for word in text if word.lower() not in stopwords.words('english')]\n",
    "   return filtered_words\n",
    "\n",
    "def tokenize(text):\n",
    "   return text.split(' ')\n",
    "\n",
    "def join(text):\n",
    "   return ' '.join(text)\n",
    "\n",
    "def lemmatize(text):\n",
    "    WNlemma = nltk.WordNetLemmatizer()\n",
    "    lemmatized = []\n",
    "    for token in text:\n",
    "        lemmatized.append(WNlemma.lemmatize(token))\n",
    "    return lemmatized\n",
    "\n",
    "def remove_numbers(text):\n",
    "    numbers = '0123456789'\n",
    "    for number in numbers:\n",
    "        text = text.replace(number, '')\n",
    "    return text\n",
    "\n",
    "def remove_short_words(word_list):\n",
    "    return [word for word in word_list if len(word) > 1]"
   ]
  },
  {
   "cell_type": "code",
   "execution_count": null,
   "metadata": {},
   "outputs": [],
   "source": []
  },
  {
   "cell_type": "code",
   "execution_count": null,
   "metadata": {},
   "outputs": [],
   "source": [
    "# Text without stopwords\n",
    "bible_df['cleaned'] = bible_df['text'] \\\n",
    "   .apply(lambda x: remove_stopwords(x)) \\ \n",
    "   .apply(lambda x: join(x)) \\\n",
    "   .apply(lambda x: carriage_return(x)) \\\n",
    "   .apply(lambda x: remove_double_space(x)) \\\n",
    "   .apply(lambda x: x.lower()) \\\n",
    "   .apply(lambda x: remove_all_punctuation(x)) \\\n",
    "   .apply(lambda x: remove_numbers(x)) \\\n",
    "   .apply(lambda x: tokenize(x)) \\\n",
    "   .apply(lambda x: remove_empty_strings(x)) \\\n",
    "   .apply(lambda x: lemmatize(x)) \\\n",
    "   .apply(lambda x: remove_short_words(x))\n",
    "   \n",
    "# Test cleaning efficiency printing the dataframe\n",
    "bible_df"
   ]
  },
  {
   "cell_type": "code",
   "execution_count": null,
   "metadata": {},
   "outputs": [],
   "source": [
    "bible_df.plot(x='book_id', y='chapter_id', kind='scatter')\n",
    "# book_id = représente le livre de la bible (1 = Genèse, 2 = Exode, 3= Lévitique, etc.)\n"
   ]
  },
  {
   "cell_type": "code",
   "execution_count": null,
   "metadata": {},
   "outputs": [],
   "source": []
  }
 ],
 "metadata": {
  "kernelspec": {
   "display_name": "base",
   "language": "python",
   "name": "python3"
  },
  "language_info": {
   "codemirror_mode": {
    "name": "ipython",
    "version": 3
   },
   "file_extension": ".py",
   "mimetype": "text/x-python",
   "name": "python",
   "nbconvert_exporter": "python",
   "pygments_lexer": "ipython3",
   "version": "3.9.13"
  }
 },
 "nbformat": 4,
 "nbformat_minor": 2
}

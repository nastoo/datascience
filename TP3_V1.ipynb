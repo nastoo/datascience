{
 "cells": [
  {
   "cell_type": "code",
   "execution_count": 11,
   "metadata": {},
   "outputs": [
    {
     "name": "stderr",
     "output_type": "stream",
     "text": [
      "[nltk_data] Downloading package stopwords to\n",
      "[nltk_data]     /Users/nathanst/nltk_data...\n",
      "[nltk_data]   Package stopwords is already up-to-date!\n"
     ]
    },
    {
     "data": {
      "text/plain": [
       "True"
      ]
     },
     "execution_count": 11,
     "metadata": {},
     "output_type": "execute_result"
    }
   ],
   "source": [
    "import pandas as pd\n",
    "import re\n",
    "\n",
    "# Import de NTLK et du corpus inaugural\n",
    "import nltk\n",
    "from nltk.corpus import stopwords\n",
    "nltk.download('stopwords')"
   ]
  },
  {
   "cell_type": "code",
   "execution_count": 12,
   "metadata": {},
   "outputs": [],
   "source": [
    "# Import bible csv\n",
    "bible_df = pd.read_csv('bible.csv')"
   ]
  },
  {
   "cell_type": "code",
   "execution_count": 4,
   "metadata": {},
   "outputs": [
    {
     "name": "stdout",
     "output_type": "stream",
     "text": [
      "Nathan le boss\n",
      "             id   b   c   v                                                  t\n",
      "0       1001001   1   1   1  In the beginning God created the heaven and th...\n",
      "1       1001002   1   1   2  And the earth was without form, and void; and ...\n",
      "2       1001003   1   1   3  And God said, Let there be light: and there wa...\n",
      "3       1001004   1   1   4  And God saw the light, that it was good: and G...\n",
      "4       1001005   1   1   5  And God called the light Day, and the darkness...\n",
      "...         ...  ..  ..  ..                                                ...\n",
      "31098  66022017  66  22  17  And the Spirit and the bride say, Come. And le...\n",
      "31099  66022018  66  22  18  For I testify unto every man that heareth the ...\n",
      "31100  66022019  66  22  19  And if any man shall take away from the words ...\n",
      "31101  66022020  66  22  20  He which testifieth these things saith, Surely...\n",
      "31102  66022021  66  22  21  The grace of our Lord Jesus Christ be with you...\n",
      "\n",
      "[31103 rows x 5 columns]\n"
     ]
    }
   ],
   "source": [
    "print(\"Nathan le boss\")\n",
    "dataset = pd.read_csv(\"bible.csv\")\n",
    "print(dataset)"
   ]
  }
 ],
 "metadata": {
  "kernelspec": {
   "display_name": "base",
   "language": "python",
   "name": "python3"
  },
  "language_info": {
   "codemirror_mode": {
    "name": "ipython",
    "version": 3
   },
   "file_extension": ".py",
   "mimetype": "text/x-python",
   "name": "python",
   "nbconvert_exporter": "python",
   "pygments_lexer": "ipython3",
   "version": "3.11.5"
  }
 },
 "nbformat": 4,
 "nbformat_minor": 2
}
